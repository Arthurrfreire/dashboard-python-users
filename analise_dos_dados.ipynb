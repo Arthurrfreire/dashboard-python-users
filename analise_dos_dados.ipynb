{
 "cells": [
  {
   "cell_type": "code",
   "execution_count": 1,
   "id": "64d758eb-b933-48aa-8c8c-c26079ecf440",
   "metadata": {},
   "outputs": [],
   "source": [
    "import pandas as pd\n",
    "import numpy as np\n",
    "from scipy import stats"
   ]
  },
  {
   "cell_type": "code",
   "execution_count": 21,
   "id": "9784caf5-6b02-47f3-8640-1aa26aba7a25",
   "metadata": {},
   "outputs": [
    {
     "data": {
      "text/plain": [
       "(         id  user_id   call_date  duration\n",
       " 0   1000_93     1000  2018-12-27      8.52\n",
       " 1  1000_145     1000  2018-12-27     13.66\n",
       " 2  1000_247     1000  2018-12-27     14.48\n",
       " 3  1000_309     1000  2018-12-28      5.76\n",
       " 4  1000_380     1000  2018-12-30      4.22,\n",
       "          id  user_id session_date  mb_used\n",
       " 0   1000_13     1000   2018-12-29    89.86\n",
       " 1  1000_204     1000   2018-12-31     0.00\n",
       " 2  1000_379     1000   2018-12-28   660.40\n",
       " 3  1000_413     1000   2018-12-26   270.99\n",
       " 4  1000_442     1000   2018-12-27   880.22,\n",
       "          id  user_id message_date\n",
       " 0  1000_125     1000   2018-12-27\n",
       " 1  1000_160     1000   2018-12-31\n",
       " 2  1000_223     1000   2018-12-31\n",
       " 3  1000_251     1000   2018-12-27\n",
       " 4  1000_255     1000   2018-12-26,\n",
       "    messages_included  mb_per_month_included  minutes_included  \\\n",
       " 0                 50                  15360               500   \n",
       " 1               1000                  30720              3000   \n",
       " \n",
       "    usd_monthly_pay  usd_per_gb  usd_per_message  usd_per_minute plan_name  \n",
       " 0               20          10             0.03            0.03      surf  \n",
       " 1               70           7             0.01            0.01  ultimate  ,\n",
       "    user_id first_name  last_name  age                                   city  \\\n",
       " 0     1000   Anamaria      Bauer   45  Atlanta-Sandy Springs-Roswell, GA MSA   \n",
       " 1     1001     Mickey  Wilkerson   28        Seattle-Tacoma-Bellevue, WA MSA   \n",
       " 2     1002     Carlee    Hoffman   36   Las Vegas-Henderson-Paradise, NV MSA   \n",
       " 3     1003   Reynaldo    Jenkins   52                          Tulsa, OK MSA   \n",
       " 4     1004    Leonila   Thompson   40        Seattle-Tacoma-Bellevue, WA MSA   \n",
       " \n",
       "      reg_date      plan churn_date  \n",
       " 0  2018-12-24  ultimate        NaN  \n",
       " 1  2018-08-13      surf        NaN  \n",
       " 2  2018-10-21      surf        NaN  \n",
       " 3  2018-01-28      surf        NaN  \n",
       " 4  2018-05-23      surf        NaN  )"
      ]
     },
     "execution_count": 21,
     "metadata": {},
     "output_type": "execute_result"
    }
   ],
   "source": [
    "# Carregar os arquivos CSV\n",
    "data_path = 'doc/'\n",
    "users = pd.read_csv(data_path + 'megaline_users.csv')\n",
    "calls = pd.read_csv(data_path + 'megaline_calls.csv')\n",
    "messages = pd.read_csv(data_path + 'megaline_messages.csv')\n",
    "internet = pd.read_csv(data_path + 'megaline_internet.csv')\n",
    "plans = pd.read_csv(data_path + 'megaline_plans.csv')\n",
    "\n",
    "# Verificar as primeiras linhas de cada DataFrame\n",
    "calls_head = calls.head()\n",
    "internet_head = internet.head()\n",
    "messages_head = messages.head()\n",
    "plans_head = plans.head()\n",
    "users_head = users.head()\n",
    "\n",
    "calls_head, internet_head, messages_head, plans_head, users_head"
   ]
  },
  {
   "cell_type": "markdown",
   "id": "87e69c9d-2310-4b15-ac72-60a2a5f3481c",
   "metadata": {},
   "source": [
    "**Os dados carregados estão organizados da seguinte forma:**\n",
    "\n",
    "- Chamadas (megaline_calls.csv): Contém as colunas id, user_id, call_date, e duration, indicando a duração das chamadas realizadas por cada cliente.\n",
    "- Internet (megaline_internet.csv): Contém as colunas id, user_id, session_date, e mb_used, mostrando o uso de dados em megabytes por cada cliente.\n",
    "- Mensagens (megaline_messages.csv): Contém as colunas id, user_id, e message_date, indicando as mensagens enviadas por cada cliente.\n",
    "- Planos (megaline_plans.csv): Inclui detalhes dos planos, como messages_included, mb_per_month_included, minutes_included, usd_monthly_pay, usd_per_gb, usd_per_message, usd_per_minute, e plan_name.\n",
    "- Usuários (megaline_users.csv): Contém informações dos usuários como user_id, first_name, last_name, age, city, reg_date, plan, e churn_date."
   ]
  },
  {
   "cell_type": "code",
   "execution_count": 22,
   "id": "9aeb8623-d035-49fa-a2a8-f36440085111",
   "metadata": {},
   "outputs": [
    {
     "name": "stdout",
     "output_type": "stream",
     "text": [
      "       plan     revenue\n",
      "0      surf  680.790438\n",
      "1  ultimate  422.345091\n"
     ]
    }
   ],
   "source": [
    "# Unir os dados de usuários com os detalhes dos planos\n",
    "users_plans = users.merge(plans, left_on='plan', right_on='plan_name', how='left')\n",
    "\n",
    "# Calcular o uso total de cada usuário em minutos, mensagens e dados\n",
    "total_calls = calls.groupby('user_id')['duration'].sum().reset_index()\n",
    "total_messages = messages.groupby('user_id')['id'].count().reset_index(name='total_messages')\n",
    "total_internet = internet.groupby('user_id')['mb_used'].sum().reset_index()\n",
    "\n",
    "# Unir os dados de uso com os usuários e planos\n",
    "users_usage = users_plans.merge(total_calls, on='user_id', how='left') \\\n",
    "                         .merge(total_messages, on='user_id', how='left') \\\n",
    "                         .merge(total_internet, on='user_id', how='left')\n",
    "\n",
    "# Substituir valores NaN por 0 (para usuários que não realizaram chamadas, mensagens ou uso de internet)\n",
    "users_usage['duration'].fillna(0, inplace=True)\n",
    "users_usage['total_messages'].fillna(0, inplace=True)\n",
    "users_usage['mb_used'].fillna(0, inplace=True)\n",
    "\n",
    "# Calcular o uso excedente\n",
    "users_usage['extra_minutes'] = users_usage['duration'] - users_usage['minutes_included']\n",
    "users_usage['extra_messages'] = users_usage['total_messages'] - users_usage['messages_included']\n",
    "users_usage['extra_gb'] = (users_usage['mb_used'] / 1024) - (users_usage['mb_per_month_included'] / 1024)\n",
    "\n",
    "# Substituir valores negativos por 0 (quando não há excedente)\n",
    "users_usage['extra_minutes'] = users_usage['extra_minutes'].apply(lambda x: max(x, 0))\n",
    "users_usage['extra_messages'] = users_usage['extra_messages'].apply(lambda x: max(x, 0))\n",
    "users_usage['extra_gb'] = users_usage['extra_gb'].apply(lambda x: max(x, 0)).apply(np.ceil)  # Arredondar para cima os GB excedentes\n",
    "\n",
    "# Calcular a receita total de cada usuário\n",
    "users_usage['revenue'] = users_usage['usd_monthly_pay'] + \\\n",
    "                         users_usage['extra_minutes'] * users_usage['usd_per_minute'] + \\\n",
    "                         users_usage['extra_messages'] * users_usage['usd_per_message'] + \\\n",
    "                         users_usage['extra_gb'] * users_usage['usd_per_gb']\n",
    "\n",
    "# Calcular a receita média por plano\n",
    "average_revenue_by_plan = users_usage.groupby('plan')['revenue'].mean().reset_index()\n",
    "\n",
    "# Exibir o resultado\n",
    "print(average_revenue_by_plan)"
   ]
  },
  {
   "cell_type": "code",
   "execution_count": 23,
   "id": "068a5789-4cdb-4ad5-998e-d66514cf16c7",
   "metadata": {},
   "outputs": [
    {
     "name": "stdout",
     "output_type": "stream",
     "text": [
      "     user_id first_name   last_name  \\\n",
      "0       1000   Anamaria       Bauer   \n",
      "1       1001     Mickey   Wilkerson   \n",
      "2       1002     Carlee     Hoffman   \n",
      "3       1003   Reynaldo     Jenkins   \n",
      "4       1004    Leonila    Thompson   \n",
      "..       ...        ...         ...   \n",
      "495     1495      Fidel      Sharpe   \n",
      "496     1496      Ariel    Shepherd   \n",
      "497     1497      Donte     Barrera   \n",
      "498     1498       Scot  Williamson   \n",
      "499     1499      Shena     Dickson   \n",
      "\n",
      "                                          city      plan  call_count  \\\n",
      "0        Atlanta-Sandy Springs-Roswell, GA MSA  ultimate        16.0   \n",
      "1              Seattle-Tacoma-Bellevue, WA MSA      surf       261.0   \n",
      "2         Las Vegas-Henderson-Paradise, NV MSA      surf       113.0   \n",
      "3                                Tulsa, OK MSA      surf       149.0   \n",
      "4              Seattle-Tacoma-Bellevue, WA MSA      surf       370.0   \n",
      "..                                         ...       ...         ...   \n",
      "495  New York-Newark-Jersey City, NY-NJ-PA MSA      surf       253.0   \n",
      "496               New Orleans-Metairie, LA MSA      surf       195.0   \n",
      "497     Los Angeles-Long Beach-Anaheim, CA MSA  ultimate        54.0   \n",
      "498  New York-Newark-Jersey City, NY-NJ-PA MSA      surf       451.0   \n",
      "499          Orlando-Kissimmee-Sanford, FL MSA      surf       204.0   \n",
      "\n",
      "     message_count  \n",
      "0             11.0  \n",
      "1            207.0  \n",
      "2             88.0  \n",
      "3             50.0  \n",
      "4            177.0  \n",
      "..             ...  \n",
      "495            0.0  \n",
      "496           65.0  \n",
      "497           50.0  \n",
      "498            0.0  \n",
      "499            0.0  \n",
      "\n",
      "[500 rows x 7 columns]\n"
     ]
    }
   ],
   "source": [
    "data_path = 'doc/'\n",
    "users = pd.read_csv(data_path + 'megaline_users.csv')\n",
    "calls = pd.read_csv(data_path + 'megaline_calls.csv')\n",
    "messages = pd.read_csv(data_path + 'megaline_messages.csv')\n",
    "internet = pd.read_csv(data_path + 'megaline_internet.csv')\n",
    "plans = pd.read_csv(data_path + 'megaline_plans.csv')\n",
    "\n",
    "# Filtrar dados para incluir apenas clientes que fizeram chamadas e enviaram mensagens em 2018\n",
    "# e juntar essas informações em um único DataFrame\n",
    "\n",
    "# Filtrando chamadas e mensagens para 2018\n",
    "calls['call_date'] = pd.to_datetime(calls['call_date'])\n",
    "messages['message_date'] = pd.to_datetime(messages['message_date'])\n",
    "\n",
    "calls_2018 = calls[calls['call_date'].dt.year == 2018]\n",
    "messages_2018 = messages[messages['message_date'].dt.year == 2018]\n",
    "\n",
    "# Contar o número de chamadas e mensagens por usuário\n",
    "calls_count = calls_2018.groupby('user_id')['id'].count().reset_index(name='call_count')\n",
    "messages_count = messages_2018.groupby('user_id')['id'].count().reset_index(name='message_count')\n",
    "\n",
    "# Juntar as informações com os dados de usuários e planos\n",
    "client_info = users.merge(calls_count, on='user_id', how='left') \\\n",
    "                   .merge(messages_count, on='user_id', how='left') \\\n",
    "                   .merge(plans, left_on='plan', right_on='plan_name', how='left')\n",
    "\n",
    "# Substituir valores NaN por 0 para clientes que não realizaram chamadas ou enviaram mensagens\n",
    "client_info['call_count'].fillna(0, inplace=True)\n",
    "client_info['message_count'].fillna(0, inplace=True)\n",
    "\n",
    "# Selecionar as colunas relevantes para a resposta\n",
    "client_summary = client_info[['user_id', 'first_name', 'last_name', 'city', 'plan', 'call_count', 'message_count']]\n",
    "\n",
    "# Exibir o resultado\n",
    "print(client_summary)"
   ]
  },
  {
   "cell_type": "code",
   "execution_count": 24,
   "id": "6ea984e9-fc3d-46c0-a015-3b3eda87a08b",
   "metadata": {},
   "outputs": [
    {
     "data": {
      "text/plain": [
       "(       plan  total_revenue\n",
       " 0      surf    230787.9584\n",
       " 1  ultimate     67997.5596,\n",
       "        plan  average_revenue\n",
       " 0      surf       680.790438\n",
       " 1  ultimate       422.345091)"
      ]
     },
     "execution_count": 24,
     "metadata": {},
     "output_type": "execute_result"
    }
   ],
   "source": [
    "# Unir os dados de usuários com os detalhes dos planos\n",
    "users_plans = users.merge(plans, left_on='plan', right_on='plan_name', how='left')\n",
    "\n",
    "# Calcular o uso total de cada usuário em minutos, mensagens e dados\n",
    "total_calls = calls.groupby('user_id')['duration'].sum().reset_index()\n",
    "total_messages = messages.groupby('user_id')['id'].count().reset_index(name='total_messages')\n",
    "total_internet = internet.groupby('user_id')['mb_used'].sum().reset_index()\n",
    "\n",
    "# Unir os dados de uso com os usuários e planos\n",
    "users_usage = users_plans.merge(total_calls, on='user_id', how='left') \\\n",
    "                         .merge(total_messages, on='user_id', how='left') \\\n",
    "                         .merge(total_internet, on='user_id', how='left')\n",
    "\n",
    "# Substituir valores NaN por 0 (para usuários que não realizaram chamadas, mensagens ou uso de internet)\n",
    "users_usage['duration'].fillna(0, inplace=True)\n",
    "users_usage['total_messages'].fillna(0, inplace=True)\n",
    "users_usage['mb_used'].fillna(0, inplace=True)\n",
    "\n",
    "# Calcular o uso excedente\n",
    "users_usage['extra_minutes'] = users_usage['duration'] - users_usage['minutes_included']\n",
    "users_usage['extra_messages'] = users_usage['total_messages'] - users_usage['messages_included']\n",
    "users_usage['extra_gb'] = (users_usage['mb_used'] / 1024) - (users_usage['mb_per_month_included'] / 1024)\n",
    "\n",
    "# Substituir valores negativos por 0 (quando não há excedente)\n",
    "users_usage['extra_minutes'] = users_usage['extra_minutes'].apply(lambda x: max(x, 0))\n",
    "users_usage['extra_messages'] = users_usage['extra_messages'].apply(lambda x: max(x, 0))\n",
    "users_usage['extra_gb'] = users_usage['extra_gb'].apply(lambda x: max(x, 0)).apply(np.ceil)  # Arredondar para cima os GB excedentes\n",
    "\n",
    "# Calcular a receita total de cada usuário\n",
    "users_usage['revenue'] = users_usage['usd_monthly_pay'] + \\\n",
    "                         users_usage['extra_minutes'] * users_usage['usd_per_minute'] + \\\n",
    "                         users_usage['extra_messages'] * users_usage['usd_per_message'] + \\\n",
    "                         users_usage['extra_gb'] * users_usage['usd_per_gb']\n",
    "\n",
    "# Calcular a receita total e média por plano\n",
    "total_revenue_by_plan = users_usage.groupby('plan')['revenue'].sum().reset_index(name='total_revenue')\n",
    "average_revenue_by_plan = users_usage.groupby('plan')['revenue'].mean().reset_index(name='average_revenue')\n",
    "\n",
    "total_revenue_by_plan, average_revenue_by_plan"
   ]
  },
  {
   "cell_type": "markdown",
   "id": "af6f6902-ce20-4c24-a5e9-8ca1c23d157a",
   "metadata": {},
   "source": [
    "**Receita Total por Plano:**\n",
    "\n",
    "- Plano Surf: $230.787,96\n",
    "  \n",
    "- Plano Ultimate: $67.997,56\n",
    "  \n",
    "**Receita Média por Cliente em Cada Plano:**\n",
    "\n",
    "- Plano Surf: $680,79 por cliente\n",
    "\n",
    "- Plano Ultimate: $422,35 por cliente\n",
    "\n",
    "Com base nesses resultados, podemos concluir que o plano Surf gera mais receita tanto no total quanto em média por cliente. Isso indica que, em geral, os clientes do plano Surf têm um comportamento de uso que gera mais receita para a empresa."
   ]
  },
  {
   "cell_type": "code",
   "execution_count": 25,
   "id": "93a9dd7f-d6a7-4f7a-b157-d2d0c529cc95",
   "metadata": {},
   "outputs": [
    {
     "data": {
      "text/plain": [
       "(5.408037473521056, 1.063247573344491e-07)"
      ]
     },
     "execution_count": 25,
     "metadata": {},
     "output_type": "execute_result"
    }
   ],
   "source": [
    "# Separar as receitas por plano\n",
    "revenue_surf = users_usage[users_usage['plan'] == 'surf']['revenue']\n",
    "revenue_ultimate = users_usage[users_usage['plan'] == 'ultimate']['revenue']\n",
    "\n",
    "# Realizar o teste t de duas amostras independentes\n",
    "t_stat, p_value = stats.ttest_ind(revenue_surf, revenue_ultimate, equal_var=False)\n",
    "\n",
    "t_stat, p_value"
   ]
  },
  {
   "cell_type": "code",
   "execution_count": 26,
   "id": "dcad6033-a2a6-4dbb-af91-da5797624b06",
   "metadata": {},
   "outputs": [
    {
     "data": {
      "text/plain": [
       "{'Base Scenario': 298785.51800000004,\n",
       " '+10% Minutes': 300799.50818,\n",
       " '-10% Minutes': 296795.71922,\n",
       " '+10% Messages': 298930.61100000003,\n",
       " '-10% Messages': 298641.274,\n",
       " '+10% Data': 332111.51800000004,\n",
       " '-10% Data': 265600.51800000004}"
      ]
     },
     "execution_count": 26,
     "metadata": {},
     "output_type": "execute_result"
    }
   ],
   "source": [
    "# Função para calcular a receita com variações no uso de minutos, mensagens e dados\n",
    "def calculate_revenue_with_variation(df, minutes_variation=0, messages_variation=0, data_variation=0):\n",
    "    df_copy = df.copy()\n",
    "\n",
    "    # Aplicar variações nos minutos, mensagens e dados\n",
    "    df_copy['duration'] *= (1 + minutes_variation)\n",
    "    df_copy['total_messages'] *= (1 + messages_variation)\n",
    "    df_copy['mb_used'] *= (1 + data_variation)\n",
    "\n",
    "    # Recalcular o uso excedente\n",
    "    df_copy['extra_minutes'] = df_copy['duration'] - df_copy['minutes_included']\n",
    "    df_copy['extra_messages'] = df_copy['total_messages'] - df_copy['messages_included']\n",
    "    df_copy['extra_gb'] = (df_copy['mb_used'] / 1024) - (df_copy['mb_per_month_included'] / 1024)\n",
    "\n",
    "    # Substituir valores negativos por 0\n",
    "    df_copy['extra_minutes'] = df_copy['extra_minutes'].apply(lambda x: max(x, 0))\n",
    "    df_copy['extra_messages'] = df_copy['extra_messages'].apply(lambda x: max(x, 0))\n",
    "    df_copy['extra_gb'] = df_copy['extra_gb'].apply(lambda x: max(x, 0)).apply(np.ceil)\n",
    "\n",
    "    # Recalcular a receita\n",
    "    df_copy['revenue'] = df_copy['usd_monthly_pay'] + \\\n",
    "                         df_copy['extra_minutes'] * df_copy['usd_per_minute'] + \\\n",
    "                         df_copy['extra_messages'] * df_copy['usd_per_message'] + \\\n",
    "                         df_copy['extra_gb'] * df_copy['usd_per_gb']\n",
    "\n",
    "    # Calcular a receita total\n",
    "    total_revenue = df_copy['revenue'].sum()\n",
    "    \n",
    "    return total_revenue\n",
    "\n",
    "# Cenários de variação: -10%, 0%, +10% para minutos, mensagens e dados\n",
    "scenarios = {\n",
    "    'Base Scenario': (0, 0, 0),\n",
    "    '+10% Minutes': (0.1, 0, 0),\n",
    "    '-10% Minutes': (-0.1, 0, 0),\n",
    "    '+10% Messages': (0, 0.1, 0),\n",
    "    '-10% Messages': (0, -0.1, 0),\n",
    "    '+10% Data': (0, 0, 0.1),\n",
    "    '-10% Data': (0, 0, -0.1),\n",
    "}\n",
    "\n",
    "# Calcular a receita para cada cenário\n",
    "sensitivity_results = {}\n",
    "for scenario, (minutes_var, messages_var, data_var) in scenarios.items():\n",
    "    revenue = calculate_revenue_with_variation(users_usage, minutes_var, messages_var, data_var)\n",
    "    sensitivity_results[scenario] = revenue\n",
    "\n",
    "sensitivity_results"
   ]
  },
  {
   "cell_type": "markdown",
   "id": "61a45c9a-8ca9-49f1-a7c3-30858368473e",
   "metadata": {},
   "source": [
    "- A receita é mais sensível a variações no uso de dados do que em minutos ou mensagens. Um aumento de 10% no uso de dados resulta em um aumento significativo na receita, enquanto uma redução de 10% no uso de dados diminui consideravelmente a receita.\n",
    "\n",
    "- Variações no uso de minutos têm um impacto menor, mas ainda notável.\n",
    "- Variações no uso de mensagens têm o menor impacto na receita.\n",
    "\n",
    "- Esses resultados indicam que o uso de dados é o fator mais crítico para a receita, especialmente porque os preços de excedente para dados são relativamente altos, comparados aos minutos e mensagens."
   ]
  },
  {
   "cell_type": "code",
   "execution_count": 27,
   "id": "f56ac807-1195-48fc-9d39-7ce6828f8d09",
   "metadata": {},
   "outputs": [
    {
     "name": "stderr",
     "output_type": "stream",
     "text": [
      "C:\\Users\\arthu\\AppData\\Local\\Temp\\ipykernel_23696\\144861817.py:5: FutureWarning: The default of observed=False is deprecated and will be changed to True in a future version of pandas. Pass observed=False to retain current behavior or observed=True to adopt the future default and silence this warning.\n",
      "  age_segment_revenue = users_usage.groupby(['age_group', 'plan'])['revenue'].mean().reset_index()\n",
      "C:\\Users\\arthu\\AppData\\Local\\Temp\\ipykernel_23696\\144861817.py:11: FutureWarning: The default of observed=False is deprecated and will be changed to True in a future version of pandas. Pass observed=False to retain current behavior or observed=True to adopt the future default and silence this warning.\n",
      "  combined_segment_revenue = users_usage.groupby(['age_group', 'city', 'plan'])['revenue'].mean().reset_index()\n"
     ]
    },
    {
     "data": {
      "text/plain": [
       "(  age_group      plan     revenue\n",
       " 0       <25      surf  693.702018\n",
       " 1       <25  ultimate  382.429709\n",
       " 2     25-35      surf  665.994107\n",
       " 3     25-35  ultimate  422.555504\n",
       " 4     35-45      surf  671.984774\n",
       " 5     35-45  ultimate  415.130864\n",
       " 6       45+      surf  686.149612\n",
       " 7       45+  ultimate  434.179178,\n",
       "                                                  city      plan      revenue\n",
       " 0                     Albany-Schenectady-Troy, NY MSA      surf  1284.879500\n",
       " 1                                 Albuquerque, NM MSA      surf  1180.775350\n",
       " 2               Atlanta-Sandy Springs-Roswell, GA MSA      surf   552.911917\n",
       " 3               Atlanta-Sandy Springs-Roswell, GA MSA  ultimate   335.160300\n",
       " 4                Austin-Round Rock-Georgetown, TX MSA      surf   898.732475\n",
       " ..                                                ...       ...          ...\n",
       " 117                            Urban Honolulu, HI MSA      surf   836.778700\n",
       " 118    Virginia Beach-Norfolk-Newport News, VA-NC MSA      surf   150.300000\n",
       " 119    Virginia Beach-Norfolk-Newport News, VA-NC MSA  ultimate    79.333333\n",
       " 120  Washington-Arlington-Alexandria, DC-VA-MD-WV MSA      surf   570.294000\n",
       " 121  Washington-Arlington-Alexandria, DC-VA-MD-WV MSA  ultimate   816.666667\n",
       " \n",
       " [122 rows x 3 columns],\n",
       "   age_group                                   city      plan  revenue\n",
       " 0       <25        Albany-Schenectady-Troy, NY MSA      surf      NaN\n",
       " 1       <25        Albany-Schenectady-Troy, NY MSA  ultimate      NaN\n",
       " 2       <25                    Albuquerque, NM MSA      surf      NaN\n",
       " 3       <25                    Albuquerque, NM MSA  ultimate      NaN\n",
       " 4       <25  Atlanta-Sandy Springs-Roswell, GA MSA      surf      NaN)"
      ]
     },
     "execution_count": 27,
     "metadata": {},
     "output_type": "execute_result"
    }
   ],
   "source": [
    "# Criar categorias de idade\n",
    "users_usage['age_group'] = pd.cut(users_usage['age'], bins=[0, 25, 35, 45, 100], labels=['<25', '25-35', '35-45', '45+'])\n",
    "\n",
    "# Agrupar por grupo etário e plano, e calcular a receita média\n",
    "age_segment_revenue = users_usage.groupby(['age_group', 'plan'])['revenue'].mean().reset_index()\n",
    "\n",
    "# Agrupar por localização (cidade) e plano, e calcular a receita média\n",
    "location_segment_revenue = users_usage.groupby(['city', 'plan'])['revenue'].mean().reset_index()\n",
    "\n",
    "# Cruzar as informações de idade e localização para identificar perfis que geram mais receita\n",
    "combined_segment_revenue = users_usage.groupby(['age_group', 'city', 'plan'])['revenue'].mean().reset_index()\n",
    "\n",
    "age_segment_revenue, location_segment_revenue, combined_segment_revenue.head()\n"
   ]
  },
  {
   "cell_type": "markdown",
   "id": "d0d5ee8b-501f-4311-aaf6-b94b3edcee52",
   "metadata": {},
   "source": [
    "## **Cruzamento de Idade e Localização:**"
   ]
  },
  {
   "cell_type": "markdown",
   "id": "f255a769-d6f0-4ffa-b0c5-5c5b5a25f872",
   "metadata": {},
   "source": [
    "Na análise cruzada, em algumas combinações específicas de idade e localização, as receitas médias não estão disponíveis, o que pode indicar que não há dados suficientes para essa combinação específica."
   ]
  },
  {
   "cell_type": "markdown",
   "id": "d4f600f1-d769-4491-9676-d1e3839bba48",
   "metadata": {},
   "source": [
    "- Idade: Os clientes mais jovens (<25) e mais velhos (45+) tendem a gerar mais receita no plano Surf, enquanto o plano Ultimate gera consistentemente menos receita média em todos os grupos etários.\n",
    "- Localização: Algumas regiões, como Albany-Schenectady-Troy, NY, e Albuquerque, NM, geram receitas significativamente mais altas no plano Surf, sugerindo que esses mercados podem estar mais inclinados a exceder os limites do plano.\n",
    "\n",
    "Esses resultados indicam que certas faixas etárias e localizações têm um impacto notável na receita gerada, e isso pode ser usado para direcionar estratégias de marketing ou otimização de planos. "
   ]
  },
  {
   "cell_type": "code",
   "execution_count": 31,
   "id": "333efd4e-624f-40f9-8e40-78a9cb625f0b",
   "metadata": {},
   "outputs": [
    {
     "data": {
      "text/html": [
       "<div>\n",
       "<style scoped>\n",
       "    .dataframe tbody tr th:only-of-type {\n",
       "        vertical-align: middle;\n",
       "    }\n",
       "\n",
       "    .dataframe tbody tr th {\n",
       "        vertical-align: top;\n",
       "    }\n",
       "\n",
       "    .dataframe thead th {\n",
       "        text-align: right;\n",
       "    }\n",
       "</style>\n",
       "<table border=\"1\" class=\"dataframe\">\n",
       "  <thead>\n",
       "    <tr style=\"text-align: right;\">\n",
       "      <th></th>\n",
       "      <th>month</th>\n",
       "      <th>revenue</th>\n",
       "    </tr>\n",
       "  </thead>\n",
       "  <tbody>\n",
       "    <tr>\n",
       "      <th>0</th>\n",
       "      <td>2018-01-01</td>\n",
       "      <td>34850.2680</td>\n",
       "    </tr>\n",
       "    <tr>\n",
       "      <th>1</th>\n",
       "      <td>2018-02-01</td>\n",
       "      <td>68486.4830</td>\n",
       "    </tr>\n",
       "    <tr>\n",
       "      <th>2</th>\n",
       "      <td>2018-03-01</td>\n",
       "      <td>141600.8281</td>\n",
       "    </tr>\n",
       "    <tr>\n",
       "      <th>3</th>\n",
       "      <td>2018-04-01</td>\n",
       "      <td>260098.1172</td>\n",
       "    </tr>\n",
       "    <tr>\n",
       "      <th>4</th>\n",
       "      <td>2018-05-01</td>\n",
       "      <td>374409.2697</td>\n",
       "    </tr>\n",
       "  </tbody>\n",
       "</table>\n",
       "</div>"
      ],
      "text/plain": [
       "       month      revenue\n",
       "0 2018-01-01   34850.2680\n",
       "1 2018-02-01   68486.4830\n",
       "2 2018-03-01  141600.8281\n",
       "3 2018-04-01  260098.1172\n",
       "4 2018-05-01  374409.2697"
      ]
     },
     "execution_count": 31,
     "metadata": {},
     "output_type": "execute_result"
    }
   ],
   "source": [
    "data_path = 'doc/'\n",
    "users = pd.read_csv(data_path + 'megaline_users.csv')\n",
    "calls = pd.read_csv(data_path + 'megaline_calls.csv')\n",
    "messages = pd.read_csv(data_path + 'megaline_messages.csv')\n",
    "internet = pd.read_csv(data_path + 'megaline_internet.csv')\n",
    "plans = pd.read_csv(data_path + 'megaline_plans.csv')\n",
    "\n",
    "# Certificar que as colunas de data estão no formato datetime\n",
    "internet['session_date'] = pd.to_datetime(internet['session_date'])\n",
    "\n",
    "# Agora, extrair o mês das datas\n",
    "internet['month'] = internet['session_date'].dt.to_period('M')\n",
    "\n",
    "# Repetir o mesmo processo para as outras colunas de data, caso necessário\n",
    "calls['call_date'] = pd.to_datetime(calls['call_date'])\n",
    "messages['message_date'] = pd.to_datetime(messages['message_date'])\n",
    "\n",
    "calls['month'] = calls['call_date'].dt.to_period('M')\n",
    "messages['month'] = messages['message_date'].dt.to_period('M')\n",
    "\n",
    "# Agora podemos continuar a agregação dos dados\n",
    "calls_monthly = calls.groupby(['user_id', 'month'])['duration'].sum().reset_index()\n",
    "messages_monthly = messages.groupby(['user_id', 'month'])['id'].count().reset_index(name='total_messages')\n",
    "internet_monthly = internet.groupby(['user_id', 'month'])['mb_used'].sum().reset_index()\n",
    "\n",
    "# Unir os dados mensais de uso com os detalhes dos usuários e planos\n",
    "users_monthly_usage = users_plans.merge(calls_monthly, on='user_id', how='left') \\\n",
    "                                 .merge(messages_monthly, on='user_id', how='left') \\\n",
    "                                 .merge(internet_monthly, on='user_id', how='left')\n",
    "\n",
    "# Substituir valores NaN por 0\n",
    "users_monthly_usage['duration'].fillna(0, inplace=True)\n",
    "users_monthly_usage['total_messages'].fillna(0, inplace=True)\n",
    "users_monthly_usage['mb_used'].fillna(0, inplace=True)\n",
    "\n",
    "# Calcular a receita mensal\n",
    "monthly_revenue = calculate_monthly_revenue(users_monthly_usage)\n",
    "\n",
    "# Somar a receita total por mês\n",
    "total_monthly_revenue = monthly_revenue.groupby('month')['revenue'].sum().reset_index()\n",
    "\n",
    "# Converter para datetime para facilitar a plotagem\n",
    "total_monthly_revenue['month'] = total_monthly_revenue['month'].dt.to_timestamp()\n",
    "\n",
    "# Exibir os resultados\n",
    "total_monthly_revenue.head()"
   ]
  },
  {
   "cell_type": "code",
   "execution_count": 32,
   "id": "59275d36-1518-4bcc-8491-ed689588aa63",
   "metadata": {},
   "outputs": [
    {
     "data": {
      "image/png": "[encoded data removed]",
      "text/plain": [
       "<Figure size 1000x600 with 1 Axes>"
      ]
     },
     "metadata": {},
     "output_type": "display_data"
    }
   ],
   "source": [
    "import matplotlib.pyplot as plt\n",
    "\n",
    "# Plotar a evolução da receita mensal\n",
    "plt.figure(figsize=(10, 6))\n",
    "plt.plot(total_monthly_revenue['month'], total_monthly_revenue['revenue'], marker='o')\n",
    "plt.title('Evolução da Receita Mensal em 2018')\n",
    "plt.xlabel('Mês')\n",
    "plt.ylabel('Receita Total ($)')\n",
    "plt.grid(True)\n",
    "plt.xticks(rotation=45)\n",
    "plt.tight_layout()\n",
    "plt.show()"
   ]
  },
  {
   "cell_type": "markdown",
   "id": "337e0351-ab4a-4bfe-be56-fd1660347c0f",
   "metadata": {},
   "source": [
    "Com base nas análises anteriores, podemos identificar alguns insights importantes para orientar as estratégias de marketing focadas em maximizar a receita da Megaline. Abaixo estão algumas recomendações específicas:\n",
    "\n",
    "**1. Foco em Clientes Jovens e Mais Velhos (Segmentação por Idade)**\n",
    "\n",
    "Clientes <25 e 45+ anos mostraram ser os segmentos que geram mais receita, especialmente no plano Surf.\n",
    "Recomendação: Desenvolver campanhas de marketing direcionadas para esses grupos, destacando os benefícios do plano Surf. Isso pode incluir pacotes de dados extras, ofertas especiais para renovar ou aumentar a fidelidade, e parcerias com serviços populares entre esses grupos etários.\n",
    "\n",
    "**2. Expansão em Regiões de Alta Receita (Segmentação por Localização)**\n",
    "\n",
    "Cidades como Albany-Schenectady-Troy, NY e Albuquerque, NM têm uma receita significativamente alta, especialmente no plano Surf.\n",
    "Recomendação: Concentrar esforços de marketing nessas regiões, talvez oferecendo promoções locais ou eventos que aumentem a visibilidade da marca. Campanhas personalizadas que atendam às necessidades específicas dessas áreas podem também ser eficazes.\n",
    "\n",
    "**3. Promoção de Planos de Dados**\n",
    "\n",
    "A análise de sensibilidade mostrou que a receita é mais sensível a variações no uso de dados. Aumentos no uso de dados resultam em aumentos significativos na receita.\n",
    "Recomendação: Incentivar o uso de dados através de campanhas que promovam streaming de vídeos, jogos online, e outros serviços de alta demanda por dados. Oferecer pacotes de dados adicionais a um preço reduzido, ou promoções que oferecem \"dados ilimitados durante a noite\" pode aumentar o uso geral.\n",
    "\n",
    "**4. Incentivar o Upgrade para o Plano Ultimate**\n",
    "\n",
    "Apesar do plano Surf gerar mais receita, o plano Ultimate pode ser mais atraente para usuários que fazem uso intensivo de minutos e mensagens, pois oferece maiores limites.\n",
    "Recomendação: Criar campanhas de upgrade que destacam o valor do plano Ultimate para usuários atuais do plano Surf que estão perto de exceder seus limites. Oferecer um período de teste gratuito ou um desconto no primeiro mês ao mudar para o Ultimate pode incentivar esse upgrade.\n",
    "\n",
    "**5. Programas de Fidelidade e Incentivos**\n",
    "\n",
    "Para manter os clientes de alto valor e incentivar a renovação contínua, implementar programas de fidelidade que recompensam os clientes com dados extras, descontos em serviços adicionais, ou benefícios em parceiros pode ser muito eficaz.\n",
    "Recomendação: Introduzir um programa de fidelidade que acumule pontos por cada mês de assinatura, permitindo que os clientes troquem esses pontos por vantagens, como minutos adicionais, pacotes de dados, ou descontos em dispositivos.\n",
    "\n",
    "**6. Campanhas Sazonais**\n",
    "\n",
    "A análise temporal mostrou picos de receita em determinados meses. Aproveitar esses insights para criar campanhas sazonais pode ajudar a maximizar a receita nesses períodos.\n",
    "Recomendação: Desenvolver campanhas promocionais para datas específicas, como férias de verão ou eventos esportivos, onde o uso de dados tende a aumentar, pode capitalizar essas tendências.\n",
    "\n",
    "**7. Otimização do Preço do Excedente**\n",
    "\n",
    "Considerando a sensibilidade da receita ao uso de dados e minutos, revisar e ajustar os preços para excedentes pode ser uma estratégia para otimizar a receita.\n",
    "Recomendação: Realizar testes A/B com diferentes níveis de preço para excedentes e ajustar conforme necessário para maximizar a receita sem desencorajar o uso.\n",
    "\n",
    "**Conclusão:**\n",
    "\n",
    "Essas recomendações combinam estratégias baseadas em segmentação demográfica, geográfica e comportamental, além de ajustes nos produtos e preços. Implementar essas estratégias pode ajudar a Megaline a maximizar sua receita e fortalecer sua posição no mercado."
   ]
  },
  {
   "cell_type": "code",
   "execution_count": null,
   "id": "3f0ccbb2-a057-4b4e-866f-1606aef05b20",
   "metadata": {},
   "outputs": [],
   "source": []
  }
 ],
 "metadata": {
  "kernelspec": {
   "display_name": "Python 3 (ipykernel)",
   "language": "python",
   "name": "python3"
  },
  "language_info": {
   "codemirror_mode": {
    "name": "ipython",
    "version": 3
   },
   "file_extension": ".py",
   "mimetype": "text/x-python",
   "name": "python",
   "nbconvert_exporter": "python",
   "pygments_lexer": "ipython3",
   "version": "3.12.4"
  }
 },
 "nbformat": 4,
 "nbformat_minor": 5
}
